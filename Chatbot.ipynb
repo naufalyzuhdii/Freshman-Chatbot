{
  "nbformat": 4,
  "nbformat_minor": 0,
  "metadata": {
    "colab": {
      "name": "Chatbot.ipynb",
      "provenance": [],
      "collapsed_sections": []
    },
    "kernelspec": {
      "name": "python3",
      "display_name": "Python 3"
    },
    "language_info": {
      "name": "python"
    }
  },
  "cells": [
    {
      "cell_type": "code",
      "metadata": {
        "colab": {
          "base_uri": "https://localhost:8080/"
        },
        "id": "PIkJN31BdfdK",
        "outputId": "b16634fa-8d93-4722-c700-e6235092b80d"
      },
      "source": [
        "pip install tensorflow"
      ],
      "execution_count": null,
      "outputs": [
        {
          "output_type": "stream",
          "name": "stdout",
          "text": [
            "Requirement already satisfied: tensorflow in /usr/local/lib/python3.7/dist-packages (2.7.0)\n",
            "Requirement already satisfied: gast<0.5.0,>=0.2.1 in /usr/local/lib/python3.7/dist-packages (from tensorflow) (0.4.0)\n",
            "Requirement already satisfied: typing-extensions>=3.6.6 in /usr/local/lib/python3.7/dist-packages (from tensorflow) (3.10.0.2)\n",
            "Requirement already satisfied: termcolor>=1.1.0 in /usr/local/lib/python3.7/dist-packages (from tensorflow) (1.1.0)\n",
            "Requirement already satisfied: tensorflow-estimator<2.8,~=2.7.0rc0 in /usr/local/lib/python3.7/dist-packages (from tensorflow) (2.7.0)\n",
            "Requirement already satisfied: tensorflow-io-gcs-filesystem>=0.21.0 in /usr/local/lib/python3.7/dist-packages (from tensorflow) (0.22.0)\n",
            "Requirement already satisfied: keras<2.8,>=2.7.0rc0 in /usr/local/lib/python3.7/dist-packages (from tensorflow) (2.7.0)\n",
            "Requirement already satisfied: keras-preprocessing>=1.1.1 in /usr/local/lib/python3.7/dist-packages (from tensorflow) (1.1.2)\n",
            "Requirement already satisfied: astunparse>=1.6.0 in /usr/local/lib/python3.7/dist-packages (from tensorflow) (1.6.3)\n",
            "Requirement already satisfied: libclang>=9.0.1 in /usr/local/lib/python3.7/dist-packages (from tensorflow) (12.0.0)\n",
            "Requirement already satisfied: flatbuffers<3.0,>=1.12 in /usr/local/lib/python3.7/dist-packages (from tensorflow) (2.0)\n",
            "Requirement already satisfied: numpy>=1.14.5 in /usr/local/lib/python3.7/dist-packages (from tensorflow) (1.19.5)\n",
            "Requirement already satisfied: h5py>=2.9.0 in /usr/local/lib/python3.7/dist-packages (from tensorflow) (3.1.0)\n",
            "Requirement already satisfied: absl-py>=0.4.0 in /usr/local/lib/python3.7/dist-packages (from tensorflow) (0.12.0)\n",
            "Requirement already satisfied: wrapt>=1.11.0 in /usr/local/lib/python3.7/dist-packages (from tensorflow) (1.13.3)\n",
            "Requirement already satisfied: opt-einsum>=2.3.2 in /usr/local/lib/python3.7/dist-packages (from tensorflow) (3.3.0)\n",
            "Requirement already satisfied: tensorboard~=2.6 in /usr/local/lib/python3.7/dist-packages (from tensorflow) (2.7.0)\n",
            "Requirement already satisfied: wheel<1.0,>=0.32.0 in /usr/local/lib/python3.7/dist-packages (from tensorflow) (0.37.0)\n",
            "Requirement already satisfied: protobuf>=3.9.2 in /usr/local/lib/python3.7/dist-packages (from tensorflow) (3.17.3)\n",
            "Requirement already satisfied: six>=1.12.0 in /usr/local/lib/python3.7/dist-packages (from tensorflow) (1.15.0)\n",
            "Requirement already satisfied: grpcio<2.0,>=1.24.3 in /usr/local/lib/python3.7/dist-packages (from tensorflow) (1.42.0)\n",
            "Requirement already satisfied: google-pasta>=0.1.1 in /usr/local/lib/python3.7/dist-packages (from tensorflow) (0.2.0)\n",
            "Requirement already satisfied: cached-property in /usr/local/lib/python3.7/dist-packages (from h5py>=2.9.0->tensorflow) (1.5.2)\n",
            "Requirement already satisfied: tensorboard-data-server<0.7.0,>=0.6.0 in /usr/local/lib/python3.7/dist-packages (from tensorboard~=2.6->tensorflow) (0.6.1)\n",
            "Requirement already satisfied: setuptools>=41.0.0 in /usr/local/lib/python3.7/dist-packages (from tensorboard~=2.6->tensorflow) (57.4.0)\n",
            "Requirement already satisfied: tensorboard-plugin-wit>=1.6.0 in /usr/local/lib/python3.7/dist-packages (from tensorboard~=2.6->tensorflow) (1.8.0)\n",
            "Requirement already satisfied: werkzeug>=0.11.15 in /usr/local/lib/python3.7/dist-packages (from tensorboard~=2.6->tensorflow) (1.0.1)\n",
            "Requirement already satisfied: google-auth<3,>=1.6.3 in /usr/local/lib/python3.7/dist-packages (from tensorboard~=2.6->tensorflow) (1.35.0)\n",
            "Requirement already satisfied: requests<3,>=2.21.0 in /usr/local/lib/python3.7/dist-packages (from tensorboard~=2.6->tensorflow) (2.23.0)\n",
            "Requirement already satisfied: google-auth-oauthlib<0.5,>=0.4.1 in /usr/local/lib/python3.7/dist-packages (from tensorboard~=2.6->tensorflow) (0.4.6)\n",
            "Requirement already satisfied: markdown>=2.6.8 in /usr/local/lib/python3.7/dist-packages (from tensorboard~=2.6->tensorflow) (3.3.6)\n",
            "Requirement already satisfied: cachetools<5.0,>=2.0.0 in /usr/local/lib/python3.7/dist-packages (from google-auth<3,>=1.6.3->tensorboard~=2.6->tensorflow) (4.2.4)\n",
            "Requirement already satisfied: rsa<5,>=3.1.4 in /usr/local/lib/python3.7/dist-packages (from google-auth<3,>=1.6.3->tensorboard~=2.6->tensorflow) (4.8)\n",
            "Requirement already satisfied: pyasn1-modules>=0.2.1 in /usr/local/lib/python3.7/dist-packages (from google-auth<3,>=1.6.3->tensorboard~=2.6->tensorflow) (0.2.8)\n",
            "Requirement already satisfied: requests-oauthlib>=0.7.0 in /usr/local/lib/python3.7/dist-packages (from google-auth-oauthlib<0.5,>=0.4.1->tensorboard~=2.6->tensorflow) (1.3.0)\n",
            "Requirement already satisfied: importlib-metadata>=4.4 in /usr/local/lib/python3.7/dist-packages (from markdown>=2.6.8->tensorboard~=2.6->tensorflow) (4.8.2)\n",
            "Requirement already satisfied: zipp>=0.5 in /usr/local/lib/python3.7/dist-packages (from importlib-metadata>=4.4->markdown>=2.6.8->tensorboard~=2.6->tensorflow) (3.6.0)\n",
            "Requirement already satisfied: pyasn1<0.5.0,>=0.4.6 in /usr/local/lib/python3.7/dist-packages (from pyasn1-modules>=0.2.1->google-auth<3,>=1.6.3->tensorboard~=2.6->tensorflow) (0.4.8)\n",
            "Requirement already satisfied: certifi>=2017.4.17 in /usr/local/lib/python3.7/dist-packages (from requests<3,>=2.21.0->tensorboard~=2.6->tensorflow) (2021.10.8)\n",
            "Requirement already satisfied: chardet<4,>=3.0.2 in /usr/local/lib/python3.7/dist-packages (from requests<3,>=2.21.0->tensorboard~=2.6->tensorflow) (3.0.4)\n",
            "Requirement already satisfied: urllib3!=1.25.0,!=1.25.1,<1.26,>=1.21.1 in /usr/local/lib/python3.7/dist-packages (from requests<3,>=2.21.0->tensorboard~=2.6->tensorflow) (1.24.3)\n",
            "Requirement already satisfied: idna<3,>=2.5 in /usr/local/lib/python3.7/dist-packages (from requests<3,>=2.21.0->tensorboard~=2.6->tensorflow) (2.10)\n",
            "Requirement already satisfied: oauthlib>=3.0.0 in /usr/local/lib/python3.7/dist-packages (from requests-oauthlib>=0.7.0->google-auth-oauthlib<0.5,>=0.4.1->tensorboard~=2.6->tensorflow) (3.1.1)\n"
          ]
        }
      ]
    },
    {
      "cell_type": "code",
      "metadata": {
        "colab": {
          "base_uri": "https://localhost:8080/"
        },
        "id": "8-KjjRUCdoQU",
        "outputId": "de766f1e-2b2c-45ce-9e7c-e85d55638f24"
      },
      "source": [
        "pip install nltk"
      ],
      "execution_count": null,
      "outputs": [
        {
          "output_type": "stream",
          "name": "stdout",
          "text": [
            "Requirement already satisfied: nltk in /usr/local/lib/python3.7/dist-packages (3.2.5)\n",
            "Requirement already satisfied: six in /usr/local/lib/python3.7/dist-packages (from nltk) (1.15.0)\n"
          ]
        }
      ]
    },
    {
      "cell_type": "code",
      "metadata": {
        "colab": {
          "base_uri": "https://localhost:8080/"
        },
        "id": "cJYB6mMUdraE",
        "outputId": "310be807-d864-4399-e72d-af755fb7b0a4"
      },
      "source": [
        "pip install tflearn"
      ],
      "execution_count": null,
      "outputs": [
        {
          "output_type": "stream",
          "name": "stdout",
          "text": [
            "Collecting tflearn\n",
            "  Downloading tflearn-0.5.0.tar.gz (107 kB)\n",
            "\u001b[?25l\r\u001b[K     |███                             | 10 kB 22.1 MB/s eta 0:00:01\r\u001b[K     |██████                          | 20 kB 28.3 MB/s eta 0:00:01\r\u001b[K     |█████████▏                      | 30 kB 13.0 MB/s eta 0:00:01\r\u001b[K     |████████████▏                   | 40 kB 10.1 MB/s eta 0:00:01\r\u001b[K     |███████████████▎                | 51 kB 5.4 MB/s eta 0:00:01\r\u001b[K     |██████████████████▎             | 61 kB 6.0 MB/s eta 0:00:01\r\u001b[K     |█████████████████████▍          | 71 kB 5.8 MB/s eta 0:00:01\r\u001b[K     |████████████████████████▍       | 81 kB 6.4 MB/s eta 0:00:01\r\u001b[K     |███████████████████████████▌    | 92 kB 4.8 MB/s eta 0:00:01\r\u001b[K     |██████████████████████████████▌ | 102 kB 5.3 MB/s eta 0:00:01\r\u001b[K     |████████████████████████████████| 107 kB 5.3 MB/s \n",
            "\u001b[?25hRequirement already satisfied: numpy in /usr/local/lib/python3.7/dist-packages (from tflearn) (1.19.5)\n",
            "Requirement already satisfied: six in /usr/local/lib/python3.7/dist-packages (from tflearn) (1.15.0)\n",
            "Requirement already satisfied: Pillow in /usr/local/lib/python3.7/dist-packages (from tflearn) (7.1.2)\n",
            "Building wheels for collected packages: tflearn\n",
            "  Building wheel for tflearn (setup.py) ... \u001b[?25l\u001b[?25hdone\n",
            "  Created wheel for tflearn: filename=tflearn-0.5.0-py3-none-any.whl size=127299 sha256=cb7328a8f98269ce78fdbd1b5fcf6556ea01a3f4f7d6fd757a4537dee5b9b05d\n",
            "  Stored in directory: /root/.cache/pip/wheels/5f/14/2e/1d8e28cc47a5a931a2fb82438c9e37ef9246cc6a3774520271\n",
            "Successfully built tflearn\n",
            "Installing collected packages: tflearn\n",
            "Successfully installed tflearn-0.5.0\n"
          ]
        }
      ]
    },
    {
      "cell_type": "code",
      "metadata": {
        "colab": {
          "base_uri": "https://localhost:8080/"
        },
        "id": "hNJnvX22dvP0",
        "outputId": "16fbb13f-f61a-4076-8075-d0ffeec28873"
      },
      "source": [
        "import nltk\n",
        "from nltk.stem.lancaster import LancasterStemmer\n",
        "import numpy as np\n",
        "import tflearn\n",
        "import json\n",
        "import tensorflow\n",
        "import random\n",
        "import pickle\n",
        "nltk.download('punkt')"
      ],
      "execution_count": null,
      "outputs": [
        {
          "output_type": "stream",
          "name": "stdout",
          "text": [
            "WARNING:tensorflow:From /usr/local/lib/python3.7/dist-packages/tensorflow/python/compat/v2_compat.py:111: disable_resource_variables (from tensorflow.python.ops.variable_scope) is deprecated and will be removed in a future version.\n",
            "Instructions for updating:\n",
            "non-resource variables are not supported in the long term\n",
            "[nltk_data] Downloading package punkt to /root/nltk_data...\n",
            "[nltk_data]   Unzipping tokenizers/punkt.zip.\n"
          ]
        },
        {
          "output_type": "execute_result",
          "data": {
            "text/plain": [
              "True"
            ]
          },
          "metadata": {},
          "execution_count": 5
        }
      ]
    },
    {
      "cell_type": "code",
      "metadata": {
        "id": "L9p6kdshdwxk"
      },
      "source": [
        "def bag_of_words(s, words):\n",
        "  bag = [0 for _ in range(len(words))]\n",
        "  \n",
        "  s_words = nltk.word_tokenize(s)\n",
        "  s_words = [stemmer.stem(word.lower()) for word in s_words]\n",
        "\n",
        "  for se in s_words:\n",
        "    for i, w in enumerate(words):\n",
        "      if w == se:\n",
        "        bag[i] = 1\n",
        "\n",
        "  return np.array(bag)"
      ],
      "execution_count": null,
      "outputs": []
    },
    {
      "cell_type": "code",
      "metadata": {
        "id": "5mYZi0jcdzG8"
      },
      "source": [
        "def register():\n",
        "  print(\"Input the cloud drive link\")\n",
        "  input(\"Certificate of Senior High School: \")\n",
        "  input(\"Family Card: \")"
      ],
      "execution_count": null,
      "outputs": []
    },
    {
      "cell_type": "code",
      "metadata": {
        "id": "dxVPxgCDd3Mp"
      },
      "source": [
        "def chat():\n",
        "  print(\"Start! (type \\\"quit\\\" to stop)\")\n",
        "\n",
        "  while(True):\n",
        "    inp = input(\"You: \")\n",
        "    \n",
        "    if inp.lower() == \"quit\":\n",
        "      break\n",
        "    elif(inp.lower() == \"registration\"):\n",
        "      register()\n",
        "    else:\n",
        "      result = model.predict([bag_of_words(inp, words)])[0]\n",
        "      result_index = np.argmax(result)\n",
        "      tag = labels[result_index]\n",
        "\n",
        "      print(result)\n",
        "      \n",
        "      if result[result_index] > 0.9:\n",
        "        for tg in data[\"intents\"]:\n",
        "          if tg['tag'] == tag:\n",
        "            responses = tg['responses']\n",
        "        print(random.choice(responses))\n",
        "      else:\n",
        "        print(\"I didn't get that, try again.\")"
      ],
      "execution_count": null,
      "outputs": []
    },
    {
      "cell_type": "code",
      "metadata": {
        "colab": {
          "base_uri": "https://localhost:8080/"
        },
        "id": "IesTYPpVd5kt",
        "outputId": "49f857a3-3e8e-4e93-986b-ff479c2f9a68"
      },
      "source": [
        "stemmer = LancasterStemmer()\n",
        "\n",
        "with open(\"intents.json\") as file:\n",
        "  data = json.load(file)\n",
        "\n",
        "words = []\n",
        "labels = []\n",
        "docs_x = []\n",
        "docs_y = []\n",
        "training = []\n",
        "output = []\n",
        "\n",
        "for intent in data[\"intents\"]:\n",
        "  for pattern in intent[\"patterns\"]:\n",
        "    wrds = nltk.word_tokenize(pattern)\n",
        "    words.extend(wrds)\n",
        "    docs_x.append(wrds)\n",
        "    docs_y.append(intent['tag'])\n",
        "\n",
        "  if intent [\"tag\"] not in labels:\n",
        "    labels.append(intent['tag'])\n",
        "\n",
        "words = [stemmer.stem(w.lower()) for w in words if w != \"?\"]\n",
        "words = sorted(list(set(words)))\n",
        "\n",
        "labels = sorted(labels)\n",
        "\n",
        "out_empty = [0 for _ in range (len(labels))]\n",
        "\n",
        "for x, doc in enumerate(docs_x):\n",
        "  bag = []\n",
        "  wrds = [stemmer.stem(w) for w in doc]\n",
        "\n",
        "  for w in words:\n",
        "    if w in wrds:\n",
        "      bag.append(1)\n",
        "    else:\n",
        "      bag.append(0)\n",
        "    \n",
        "  output_row = out_empty[:]\n",
        "  output_row[labels.index(docs_y[x])] = 1\n",
        "\n",
        "  training.append(bag)\n",
        "  output.append(output_row)\n",
        "\n",
        "training = np.array(training)\n",
        "output = np.array(output)\n",
        "\n",
        "net = tflearn.input_data(shape = [None, len(training[0])])\n",
        "net = tflearn.fully_connected(net, 8)\n",
        "net = tflearn.fully_connected(net, 8)\n",
        "net = tflearn.fully_connected(net, len(output[0]), activation = \"softmax\")\n",
        "net = tflearn.regression(net)\n",
        "\n",
        "model = tflearn.DNN(net)\n",
        "\n",
        "model.fit(training, output, n_epoch = 1000, batch_size = 8, show_metric = True)\n",
        "model.save(\"model.tflearn\")"
      ],
      "execution_count": null,
      "outputs": [
        {
          "output_type": "stream",
          "name": "stdout",
          "text": [
            "Training Step: 7999  | total loss: \u001b[1m\u001b[32m0.02369\u001b[0m\u001b[0m | time: 0.026s\n",
            "| Adam | epoch: 1000 | loss: 0.02369 - acc: 1.0000 -- iter: 56/60\n",
            "Training Step: 8000  | total loss: \u001b[1m\u001b[32m0.02272\u001b[0m\u001b[0m | time: 0.030s\n",
            "| Adam | epoch: 1000 | loss: 0.02272 - acc: 1.0000 -- iter: 60/60\n",
            "--\n",
            "INFO:tensorflow:/content/model.tflearn is not in all_model_checkpoint_paths. Manually adding it.\n"
          ]
        }
      ]
    },
    {
      "cell_type": "code",
      "metadata": {
        "id": "jw_v_3MHd67M",
        "colab": {
          "base_uri": "https://localhost:8080/"
        },
        "outputId": "93b1804c-aff7-4542-bdd8-ef18934f79a4"
      },
      "source": [
        "chat()"
      ],
      "execution_count": null,
      "outputs": [
        {
          "name": "stdout",
          "output_type": "stream",
          "text": [
            "Start! (type \"quit\" to stop)\n",
            "You: hi\n",
            "[2.0333808e-03 1.2044786e-03 3.1664945e-06 9.8484600e-01 4.2040751e-06\n",
            " 4.5183287e-03 1.6233022e-05 1.4692870e-03 1.7336834e-03 3.5414693e-03\n",
            " 6.2975398e-04]\n",
            "Hello, thanks for asking\n",
            "You: ukm\n",
            "[1.3943325e-06 3.9725719e-06 1.1255770e-03 4.6221488e-03 1.0087433e-06\n",
            " 1.5438505e-02 1.3985129e-03 1.0702797e-03 1.8870221e-03 9.7444874e-01\n",
            " 2.8216430e-06]\n",
            "Student Activity Unit (UKM)\n",
            "There are 41 UKM that consists of:\n",
            "12 UKM of Reasoning:\n",
            "Bina Nusantara Computer Club (BNCC)\n",
            "Bina Nusantara English Club (BNEC)\n",
            "Bina Nusantara Mandarin Club (BNMC)\n",
            "Nippon Club (NC)\n",
            "ISACA Student Group (ISG)\n",
            "BINUS Student Learning Community (BSLC)\n",
            "BINUS Game Development Club (BGDC)\n",
            "Cyber Security Community (CSC)\n",
            "B-Preneur\n",
            "International Marketing Community of Binus (IMCB)\n",
            "Bina Nusantara Finance Club (BNFC)\n",
            "BINUS Business International Club (BIC)\n",
            "\n",
            "9 UKM of Arts and Communication Media:\n",
            "Band\n",
            "Paduan Suara Mahasiswa Bina Nusantara (PARAMABIRA)\n",
            "Seni Teater Mahasiswa Bina Nusantara (ST Manis)\n",
            "Seni Tari Mahasiswa Bina Nusantara (STAMANARA)\n",
            "Bersama Dalam Musik (BDM)\n",
            "Klub Seni Fotografi Bina Nusantara (KLIFONARA)\n",
            "Binus TV Club\n",
            "BVoice Radio\n",
            "Kine Club\n",
            "\n",
            "11 UKM of Sports and Martial Arts:\n",
            "Aikido\n",
            "Badminton\n",
            "Basketball\n",
            "Bina Nusantara Swimming Club (BASIC)\n",
            "Football\n",
            "Karate\n",
            "Mahasiswa Bina Nusantara Pencinta Alam (SWARANAPALA)\n",
            "Merpati Putih (MP)\n",
            "Taekwondo\n",
            "Wushu\n",
            "Volleyball\n",
            "\n",
            "9 UKM of Religon and Society:\n",
            "Keluarga Besar Mahasiswa Khonghucu (KBMK)\n",
            "Keluarga Mahasiswa Buddhis Dhammavaddhana (KMBD)\n",
            "Keluarga Mahasiswa Hindu (KMH)\n",
            "Keluarga Mahasiswa Katholik (KMK)\n",
            "Majelis Ta’lim (MT)\n",
            "Persekutuan Oikumene (PO)\n",
            "AIESEC\n",
            "Binus Square Student Committee (BSSC)\n",
            "Teach for Indonesia Student Committee (TFISC)\n",
            "You: awdsadwa\n",
            "[0.00231547 0.05040748 0.02056934 0.05253839 0.00516578 0.71159226\n",
            " 0.04577725 0.0075487  0.01934265 0.06194854 0.0227941 ]\n",
            "I didn't get that, try again.\n",
            "You: exit\n",
            "[0.00231547 0.05040748 0.02056934 0.05253839 0.00516578 0.71159226\n",
            " 0.04577725 0.0075487  0.01934265 0.06194854 0.0227941 ]\n",
            "I didn't get that, try again.\n",
            "You: quit\n"
          ]
        }
      ]
    }
  ]
}